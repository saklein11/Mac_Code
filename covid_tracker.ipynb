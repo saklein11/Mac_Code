{
 "cells": [
  {
   "cell_type": "code",
   "execution_count": 2,
   "metadata": {},
   "outputs": [
    {
     "name": "stdout",
     "output_type": "stream",
     "text": [
      "1031 ['32171076', '32171075', '32171074', '32171067', '32171063', '32171062', '32171059', '32171057', '32171055', '32171054']\n"
     ]
    }
   ],
   "source": [
    "#Read in PMID csv file created through\n",
    "path = \"/Users/manatee_prime/Documents/covid/\"\n",
    "\n",
    "pmids = []\n",
    "\n",
    "f = open(path + '20200315_pubmed_result.txt','r')\n",
    "for line in f:\n",
    "    pmids.append(line.rstrip())\n",
    "\n",
    "print(len(pmids),pmids[0:10])"
   ]
  },
  {
   "cell_type": "code",
   "execution_count": 120,
   "metadata": {},
   "outputs": [
    {
     "name": "stdout",
     "output_type": "stream",
     "text": [
      "0.2909796314258002  completed!\n",
      "0.5819592628516004  completed!\n",
      "0.8729388942774006  completed!\n",
      "1031 1030 1031 1031 1031 1031 1031\n"
     ]
    }
   ],
   "source": [
    "#This code returns grant information on all pmids gathered from pubmed\n",
    "#It is modified slightly to retrieve additional info (article name, author affiliation)\n",
    "import collections\n",
    "import requests\n",
    "import urllib.request\n",
    "from bs4 import BeautifulSoup\n",
    "import time\n",
    "\n",
    "#NOTE: consider adding article date information to grant scraper for accurate dating down to the day\n",
    "#      use 'pubdate' to grab date information for future grant searches\n",
    "\n",
    "fgrant = [[],[],[]] #0 = grant num, 1 = grant agency, 2 = grant country\n",
    "author = [[],[]] #0 = author name, 1 = affiliation\n",
    "article = [[],[],[],[]] #0 = pub date, 1 = journal, 2 = title, 3 = article type (letter, research art, rev, etc.)\n",
    "ct = 0\n",
    "\n",
    "for x in pmids:\n",
    "    \n",
    "    #Counter to track number of citations tackled\n",
    "    ct += 1\n",
    "    if ct % 300 == 0:\n",
    "        print(ct/len(pmids),' completed!')\n",
    "    \n",
    "    skey = 'dcff69acdc62008c90b1354b0ac141dc0808' #api key to get more queries to ncbi eutils\n",
    "    time.sleep(0.2) #setting to 0.1 throws over-query error\n",
    "    url = \"https://eutils.ncbi.nlm.nih.gov/entrez/eutils/efetch.fcgi?db=pubmed&id={0}&retmode=xml&api_key={1}\".format(x,skey)\n",
    "    response = requests.get(url)\n",
    "    soup = BeautifulSoup(response.text,'html.parser')\n",
    "        \n",
    "    ###SCRAPE PUBLICATION ARTICLE INFORMATION###\n",
    "    #Date\n",
    "    date = soup.find_all('pubdate')\n",
    "    pubdate = ''\n",
    "    for item in date:\n",
    "        for subitem in item: #pubdate lists in order: year, month, day\n",
    "            if 'year' in str(subitem):\n",
    "                pubdate = str(subitem).split('>')[1].split('<')[0]\n",
    "            if 'month' in str(subitem):\n",
    "                pubdate = pubdate + '-' + str(subitem).split('>')[1].split('<')[0]\n",
    "            if 'day' in str(subitem):\n",
    "                pubdate = pubdate + '-' + str(subitem).split('>')[1].split('<')[0]\n",
    "        if pubdate.count('-') == 1:\n",
    "            pubdate = pubdate + '-01' #arbitrarily set Y-M dates to Y-M-01 (start of month)\n",
    "    article[0].append(pubdate)\n",
    "    \n",
    "    #Journal name\n",
    "    for jrn in soup.find_all('isoabbreviation'):\n",
    "        article[1].append(str(jrn).split('>')[1].split('<')[0])\n",
    "    #Article name/type\n",
    "    article[2].append(str(soup.find_all('articletitle')).split('>')[1].split('<')[0])\n",
    "    article[3].append(str(soup.find_all('publicationtype')).split('>')[1].split('<')[0])\n",
    "    ###END ARTICLE BLOCK###\n",
    "    \n",
    "    ####SCRAPE AUTHOR INFORMATION###\n",
    "    athr = soup.find_all('author')\n",
    "    for n in athr:\n",
    "        tmpa = [[],[]]\n",
    "        for subn in n:\n",
    "            if '<lastname>' in str(subn):\n",
    "                tmpa[0].append(str(subn).split('>')[1].split('<')[0])\n",
    "            if '<forename>' in str(subn):\n",
    "                tmpa[0][-1] = tmpa[0][-1] + ' ' + str(subn).split('>')[1].split('<')[0]\n",
    "            if '<affiliation>' in str(subn):\n",
    "                tmpa[1].append(str(subn).split('<affiliation>')[1].split('</affiliation>')[0])\n",
    "        if len(tmpa[1]) == 0:\n",
    "            tmpa[1] = ['NA']\n",
    "    author[0].append(tmpa[0])\n",
    "    author[1].append(tmpa[1])\n",
    "    ###END AUTHOR BLOCK ###\n",
    "    \n",
    "    ###SCRAPE GRANT INFORMATION###\n",
    "    content = soup.find_all('grant')\n",
    "    if len(content) == 0:\n",
    "        fgrant[0].append('NA')\n",
    "        fgrant[1].append('NA')\n",
    "        fgrant[2].append('NA')\n",
    "        continue\n",
    "\n",
    "    for item in content:\n",
    "        grant = [[],[],[]]\n",
    "        gid = False\n",
    "        agency = False\n",
    "        country = False\n",
    "            \n",
    "        for j in item:\n",
    "            if 'grantid' in str(j):\n",
    "                grant[0].append(str(j).split('>')[1].split('<')[0])\n",
    "                gid = True\n",
    "                continue\n",
    "            if 'agency' in str(j):\n",
    "                grant[1].append(str(j).split('>')[1].split('<')[0])\n",
    "                agency = True\n",
    "                continue\n",
    "            if 'country' in str(j):\n",
    "                grant[2].append(str(j).split('>')[1].split('<')[0])\n",
    "                country = True\n",
    "                continue\n",
    "            \n",
    "        if gid == False:\n",
    "            grant[0].append('NA')\n",
    "        if agency == False:\n",
    "            grant[1].append('NA')\n",
    "        if country == False:\n",
    "            grant[2].append('NA')\n",
    "    fgrant[0].append(grant[0])\n",
    "    fgrant[1].append(grant[1])\n",
    "    fgrant[2].append(grant[2])\n",
    "        ###END GRANT BLOCK###\n",
    "    \n",
    "print(len(article[0]),len(article[1]),\n",
    "      len(author[0]),len(author[1]),\n",
    "     len(fgrant[0]),len(fgrant[1]),len(fgrant[2]))"
   ]
  },
  {
   "cell_type": "code",
   "execution_count": 279,
   "metadata": {},
   "outputs": [
    {
     "data": {
      "image/png": "[encoded data removed]",
      "text/plain": [
       "<Figure size 432x288 with 1 Axes>"
      ]
     },
     "metadata": {
      "needs_background": "light"
     },
     "output_type": "display_data"
    }
   ],
   "source": [
    "from datetime import datetime\n",
    "from matplotlib import pyplot as plt\n",
    "import matplotlib.dates as mdates\n",
    "\n",
    "pubtype = ['Journal Article','Case Reports','Guideline','Letter'] #limit plot to publications\n",
    "chklst = ['USA','U.S.A.', 'United States', 'California', ' CA ', 'Massachusetts', ' MA ', 'Maryland', ' MD ',\n",
    "      'FL', 'Florida', 'GA', 'Georgia', 'NY', 'New York', 'Washington', ' WA '] #find US publications\n",
    "\n",
    "'''\n",
    "for i in range(len(article[0])):\n",
    "    if article[0][i].count('-') == 2: #only use articles with decent dates\n",
    "        try:\n",
    "            print(article[0][i])\n",
    "            int(article[0][i].split('-')[1]) #test if month is %m\n",
    "            article[0][i] = datetime.strptime(article[0][i], '%Y-%m-%d')\n",
    "        except ValueError:\n",
    "            article[0][i] = datetime.strptime(article[0][i], '%Y-%b-%d')\n",
    "'''\n",
    "dat = [[],[],[]] #0 = all pubs, 1 = pubs w/ 1+ authors w/ USA affiliation, 2 = chinese pubs\n",
    "for x in range(len(article[0])):\n",
    "    #Get all published articles\n",
    "    if isinstance(article[0][x],datetime) == True and article[3][x] in pubtype:\n",
    "        #Get only USA affiliated published articles\n",
    "        for subitem in author[1][x]:\n",
    "            a = False\n",
    "            b = False\n",
    "            if subitem != 'NA':\n",
    "                for chk in chklst: #see if a chklst word appears in subitem\n",
    "                    if chk in subitem:\n",
    "                        a = True #flag that a chklst word has appeared\n",
    "                        dat[1].append(article[0][x]) #append article date to dat[1] for plotting\n",
    "                        break #exit as we count anything with 1+ author from US as a US publication\n",
    "                    if 'China' in subitem:\n",
    "                        b = True\n",
    "                        dat[2].append(article[0][x])\n",
    "                        break\n",
    "                if a != False or b != False:\n",
    "                    break\n",
    "        #Put rest of publications into another bin\n",
    "        if a == False:\n",
    "            dat[0].append(article[0][x])\n",
    "                    \n",
    "# convert the epoch format to matplotlib date format \n",
    "mpl_dat0 = mdates.date2num(dat[0])\n",
    "mpl_dat1 = mdates.date2num(dat[1])\n",
    "mpl_dat2 = mdates.date2num(dat[2])\n",
    "\n",
    "# plot it\n",
    "fig, ax = plt.subplots(1,1)\n",
    "#ax.hist([mpl_dat0,mpl_dat2,mpl_dat1], bins=50, color=['k','r','b'],edgecolor='w',stacked=True,cumulative=False)\n",
    "#ax.legend(['Rest of World','China','USA'])\n",
    "ax.hist(mpl_dat1,bins=50,color='k',edgecolor='w',cumulative=True)\n",
    "ax.xaxis.set_major_locator(mdates.MonthLocator())\n",
    "ax.xaxis.set_major_formatter(mdates.DateFormatter('%m-%y'))\n",
    "ax.set_xlim([datetime.strptime(\"12/01/2019\", \"%m/%d/%Y\"), datetime.now()])\n",
    "plt.xticks(rotation=45)\n",
    "fig.suptitle('Publications on SARS-CoV-2/COVID-19', fontsize=15)\n",
    "plt.xlabel('Publication Date', fontsize=15)\n",
    "plt.ylabel('Number of Articles', fontsize=15)\n",
    "plt.gcf().subplots_adjust(bottom=0.35)\n",
    "plt.savefig(path + '20200316_pubct_cum_usa.png',dpi=200,transparent=True)\n",
    "plt.show()"
   ]
  },
  {
   "cell_type": "code",
   "execution_count": 138,
   "metadata": {},
   "outputs": [],
   "source": [
    "###CHECK IF ANY PUBS HAVE MULTIPLE FUNDING SOURCES###\n",
    "for item in fgrant[1]:\n",
    "    if item != 'NA':\n",
    "        if len(item) > 1:\n",
    "            print(len(item))"
   ]
  },
  {
   "cell_type": "code",
   "execution_count": 204,
   "metadata": {},
   "outputs": [],
   "source": [
    "###THIS SECTION COULD HAVE GRANT NETWORK INFO EVENTUALlY###"
   ]
  },
  {
   "cell_type": "code",
   "execution_count": 237,
   "metadata": {},
   "outputs": [
    {
     "name": "stdout",
     "output_type": "stream",
     "text": [
      "104\n"
     ]
    }
   ],
   "source": [
    "###CHECK FOR ASSORTMENT OF AFFILIATIONS###\n",
    "\n",
    "\n",
    "dat = [[],[]]\n",
    "for i in range(len(author[1])):\n",
    "    \n",
    "\n",
    "print(len(dat[1]))"
   ]
  },
  {
   "cell_type": "code",
   "execution_count": 227,
   "metadata": {},
   "outputs": [],
   "source": []
  },
  {
   "cell_type": "code",
   "execution_count": null,
   "metadata": {},
   "outputs": [],
   "source": []
  }
 ],
 "metadata": {
  "kernelspec": {
   "display_name": "Python 3",
   "language": "python",
   "name": "python3"
  },
  "language_info": {
   "codemirror_mode": {
    "name": "ipython",
    "version": 3
   },
   "file_extension": ".py",
   "mimetype": "text/x-python",
   "name": "python",
   "nbconvert_exporter": "python",
   "pygments_lexer": "ipython3",
   "version": "3.7.4"
  }
 },
 "nbformat": 4,
 "nbformat_minor": 2
}
